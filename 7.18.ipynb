{
 "cells": [
  {
   "cell_type": "markdown",
   "metadata": {},
   "source": [
    "# 选择\n",
    "## 布尔类型、数值和表达式\n",
    "![](../Photo/33.png)\n",
    "- 注意：比较运算符的相等是两个等到，一个等到代表赋值\n",
    "- 在Python中可以用整型0来代表False，其他数字来代表True\n",
    "- 后面还会讲到 is 在判断语句中的用发"
   ]
  },
  {
   "cell_type": "code",
   "execution_count": 18,
   "metadata": {},
   "outputs": [
    {
     "name": "stdout",
     "output_type": "stream",
     "text": [
      "输密码啊122\n",
      "滚\n"
     ]
    }
   ],
   "source": [
    "y = 100\n",
    "mm = eval(input('输密码啊'))\n",
    "if mm == 123456:\n",
    "    print('你还有',y)\n",
    "    qu = eval(input('你要取多少钱'))\n",
    "    if qu < y:\n",
    "        print('给你',qu)\n",
    "        y = ((y-qu))\n",
    "        print('你还有',y)\n",
    "    else:\n",
    "         print('你只有',y,'了，傻逼')\n",
    "else:\n",
    "    print('滚')"
   ]
  },
  {
   "cell_type": "markdown",
   "metadata": {},
   "source": [
    "## 字符串的比较使用ASCII值"
   ]
  },
  {
   "cell_type": "markdown",
   "metadata": {},
   "source": [
    "##九点零分零四的"
   ]
  },
  {
   "cell_type": "markdown",
   "metadata": {},
   "source": [
    "## Markdown \n",
    "- https://github.com/younghz/Markdown"
   ]
  },
  {
   "cell_type": "markdown",
   "metadata": {},
   "source": [
    "## EP:\n",
    "- <img src=\"../Photo/34.png\"></img>\n",
    "- 输入一个数字，判断其实奇数还是偶数"
   ]
  },
  {
   "cell_type": "markdown",
   "metadata": {},
   "source": [
    "## 产生随机数字\n",
    "- 函数random.randint(a,b) 可以用来产生一个a和b之间且包括a和b的随机整数"
   ]
  },
  {
   "cell_type": "markdown",
   "metadata": {},
   "source": [
    "##  其他random方法\n",
    "- random.random 返回0.0到1.0之间前闭后开区间的随机浮点\n",
    "- random.randrange(a,b) 前闭后开"
   ]
  },
  {
   "cell_type": "markdown",
   "metadata": {},
   "source": [
    "## EP：\n",
    "- 产生两个随机整数number1和number2，然后显示给用户，使用户输入数字的和，并判定其是否正确\n",
    "- 进阶:写一个随机序号点名程序"
   ]
  },
  {
   "cell_type": "code",
   "execution_count": 7,
   "metadata": {},
   "outputs": [
    {
     "name": "stdout",
     "output_type": "stream",
     "text": [
      "5\n",
      "3\n",
      "???8\n",
      "666\n"
     ]
    }
   ],
   "source": [
    "import random\n",
    "a=(random.randint(1,9))\n",
    "b=(random.randint(1,9))\n",
    "c = a + b\n",
    "print(a)\n",
    "print(b)\n",
    "d = eval(input('???'))\n",
    "if d==c:\n",
    "    print('666')\n",
    "else:\n",
    "    print('傻逼')"
   ]
  },
  {
   "cell_type": "code",
   "execution_count": 31,
   "metadata": {},
   "outputs": [
    {
     "name": "stdout",
     "output_type": "stream",
     "text": [
      "8 1\n"
     ]
    }
   ],
   "source": [
    "import random\n",
    "a=(random.randint(1,9))\n",
    "b=(random.randint(1,5))\n",
    "if a==10 or a==9:\n",
    "    b=(random.randint(1,5))\n",
    "print(a,b)"
   ]
  },
  {
   "cell_type": "code",
   "execution_count": 35,
   "metadata": {},
   "outputs": [
    {
     "name": "stdout",
     "output_type": "stream",
     "text": [
      "奶斯\n"
     ]
    }
   ],
   "source": [
    "cj = 100\n",
    "if cj<60:\n",
    "    print('辣鸡')\n",
    "elif cj>60 and cj<80:\n",
    "    print('还阔以')\n",
    "else :\n",
    "    cj>80\n",
    "    print('奶斯')"
   ]
  },
  {
   "cell_type": "code",
   "execution_count": null,
   "metadata": {},
   "outputs": [],
   "source": [
    "if "
   ]
  },
  {
   "cell_type": "markdown",
   "metadata": {},
   "source": [
    "## if语句\n",
    "- 如果条件正确就执行一个单向if语句，亦即当条件为真的时候才执行if内部的语句\n",
    "- Python有很多选择语句:\n",
    "> - 单向if \n",
    "  - 双向if-else\n",
    "  - 嵌套if\n",
    "  - 多向if-elif-else\n",
    "  \n",
    "- 注意：当语句含有子语句的时候，那么一定至少要有一个缩进，也就是说如果有儿子存在，那么一定要缩进\n",
    "- 切记不可tab键和space混用，单用tab 或者 space\n",
    "- 当你输出的结果是无论if是否为真时都需要显示时，语句应该与if对齐"
   ]
  },
  {
   "cell_type": "markdown",
   "metadata": {},
   "source": [
    "## EP：\n",
    "- 用户输入一个数字，判断其实奇数还是偶数\n",
    "- 进阶：可以查看下4.5实例研究猜生日"
   ]
  },
  {
   "cell_type": "markdown",
   "metadata": {},
   "source": [
    "## 双向if-else 语句\n",
    "- 如果条件为真，那么走if内部语句，否则走else内部语句"
   ]
  },
  {
   "cell_type": "markdown",
   "metadata": {},
   "source": [
    "## EP：\n",
    "- 产生两个随机整数number1和number2，然后显示给用户，使用户输入数字，并判定其是否正确,如果正确打印“you‘re correct”，否则打印正确错误"
   ]
  },
  {
   "cell_type": "code",
   "execution_count": 36,
   "metadata": {},
   "outputs": [
    {
     "name": "stdout",
     "output_type": "stream",
     "text": [
      "4\n",
      "8\n",
      "a4\n",
      "b8\n",
      "666\n"
     ]
    }
   ],
   "source": [
    "import random\n",
    "a=(random.randint(1,9))\n",
    "b=(random.randint(1,9))\n",
    "c = a + b\n",
    "print(a)\n",
    "print(b)\n",
    "d = eval(input('a'))\n",
    "e = eval(input('b'))\n",
    "if d==a:\n",
    "    if e==b:\n",
    "        print('666')\n",
    "else:\n",
    "    print('傻逼')"
   ]
  },
  {
   "cell_type": "markdown",
   "metadata": {},
   "source": [
    "## 嵌套if 和多向if-elif-else\n",
    "![](../Photo/35.png)"
   ]
  },
  {
   "cell_type": "markdown",
   "metadata": {},
   "source": [
    "## EP：\n",
    "- 提示用户输入一个年份，然后显示表示这一年的动物\n",
    "![](../Photo/36.png)\n",
    "- 计算身体质量指数的程序\n",
    "- BMI = 以千克为单位的体重除以以米为单位的身高\n",
    "![](../Photo/37.png)"
   ]
  },
  {
   "cell_type": "code",
   "execution_count": 47,
   "metadata": {},
   "outputs": [
    {
     "name": "stdout",
     "output_type": "stream",
     "text": [
      "体重30\n",
      "身高1.6\n",
      "标准\n"
     ]
    }
   ],
   "source": [
    "tz = eval(input('体重'))\n",
    "sg = eval(input('身高'))\n",
    "a =tz/sg\n",
    "if a<18.5:\n",
    "    print('超轻')\n",
    "elif 18.5<=a<25:\n",
    "    print('标准')\n",
    "elif 25<=a<30:\n",
    "    print('超重')\n",
    "else:\n",
    "    print('痴汉')"
   ]
  },
  {
   "cell_type": "code",
   "execution_count": 39,
   "metadata": {},
   "outputs": [
    {
     "name": "stdout",
     "output_type": "stream",
     "text": [
      "year1996\n",
      "鼠\n"
     ]
    }
   ],
   "source": [
    "y = eval(input('year'))\n",
    "a = y % 12 \n",
    "if a==0:\n",
    "    print('猴')\n",
    "elif a==1:\n",
    "    print('鸡')\n",
    "elif a==2:\n",
    "    print('狗')\n",
    "elif a==3:\n",
    "    print('猪')\n",
    "elif a==4:\n",
    "    print('鼠')\n",
    "elif a==5:\n",
    "    print('牛')\n",
    "elif a==6:\n",
    "    print('虎')\n",
    "elif a==7:\n",
    "    print('兔')\n",
    "elif a==8:\n",
    "    print('龙')\n",
    "elif a==9:\n",
    "    print('蛇')\n",
    "elif a==10:\n",
    "    print('马')\n",
    "else:\n",
    "    print('羊')"
   ]
  },
  {
   "cell_type": "markdown",
   "metadata": {},
   "source": [
    "## 逻辑运算符\n",
    "![](../Photo/38.png)"
   ]
  },
  {
   "cell_type": "markdown",
   "metadata": {},
   "source": [
    "![](../Photo/39.png)\n",
    "![](../Photo/40.png)"
   ]
  },
  {
   "cell_type": "markdown",
   "metadata": {},
   "source": [
    "## EP：\n",
    "- 判定闰年：一个年份如果能被4整除但不能被100整除，或者能被400整除，那么这个年份就是闰年\n",
    "- 提示用户输入一个年份，并返回是否是闰年\n",
    "- 提示用户输入一个数字，判断其是否为水仙花数"
   ]
  },
  {
   "cell_type": "code",
   "execution_count": 56,
   "metadata": {},
   "outputs": [
    {
     "name": "stdout",
     "output_type": "stream",
     "text": [
      "数字153\n"
     ]
    }
   ],
   "source": [
    "number = eval(input('数字'))\n",
    "lastDigit = number % 10\n",
    "remainingNumber = number // 10\n",
    "secondLastDigit = remainingNumber % 10\n",
    "\n",
    "remainingNumber = remainingNumber // 10\n",
    "thirdLastDigit = remainingNumber % 10\n",
    "if number == lastDigit**3 + thirdLastDigit**3+ thirdLastDigit**3:\n",
    "    print('666')"
   ]
  },
  {
   "cell_type": "code",
   "execution_count": 55,
   "metadata": {},
   "outputs": [
    {
     "name": "stdout",
     "output_type": "stream",
     "text": [
      "请输入最大范围99999\n",
      "0\n",
      "1\n",
      "2\n",
      "3\n",
      "4\n",
      "5\n",
      "6\n",
      "7\n",
      "8\n",
      "9\n",
      "153\n",
      "370\n",
      "371\n",
      "407\n",
      "1634\n",
      "8208\n",
      "9474\n",
      "54748\n",
      "92727\n",
      "93084\n"
     ]
    }
   ],
   "source": [
    "max_num = int(input('请输入最大范围'))\n",
    "# 获取小于指定数的阿姆斯特朗数\n",
    "for num in range(0, max_num):\n",
    "    sum = 0\n",
    "    length = len(str(num))\n",
    "    temp = num\n",
    "    for i in range(length):\n",
    "        sum += (temp % 10) ** length\n",
    "        temp //= 10\n",
    "    if sum == num:\n",
    "        print(num)"
   ]
  },
  {
   "cell_type": "code",
   "execution_count": 53,
   "metadata": {},
   "outputs": [
    {
     "name": "stdout",
     "output_type": "stream",
     "text": [
      "year2008\n",
      "闰年\n"
     ]
    }
   ],
   "source": [
    "y = eval(input('year'))\n",
    "if (y%4==0 and y%100!=0) or y%400==0:\n",
    "    print('闰年')\n",
    "else:\n",
    "    print('普遍')"
   ]
  },
  {
   "cell_type": "markdown",
   "metadata": {},
   "source": [
    "## 实例研究：彩票\n",
    "![](../Photo/41.png)"
   ]
  },
  {
   "cell_type": "code",
   "execution_count": 6,
   "metadata": {},
   "outputs": [
    {
     "name": "stdout",
     "output_type": "stream",
     "text": [
      "赌99\n",
      "9\n",
      "9\n",
      "6 9\n",
      "no\n"
     ]
    }
   ],
   "source": [
    "import random\n",
    "import math\n",
    "f = eval(input('赌'))\n",
    "s=math.floor(f/10)\n",
    "b=f-s*10\n",
    "print(s)\n",
    "print(b)\n",
    "# = eval(input('赌'))\n",
    "a=(random.randint(1,9))\n",
    "c=(random.randint(1,9))\n",
    "print(a,b)\n",
    "if s*10+b==a*10+c:\n",
    "    print('哇塞')\n",
    "elif s==a or b==c:\n",
    "    print('3000')    \n",
    "elif s==a or s==c or b==a or b==c:\n",
    "    print('1000')\n",
    "else:\n",
    "    print('no')"
   ]
  },
  {
   "cell_type": "markdown",
   "metadata": {},
   "source": [
    "# Homework\n",
    "- 1\n",
    "![](../Photo/42.png)"
   ]
  },
  {
   "cell_type": "markdown",
   "metadata": {},
   "source": [
    "- 2\n",
    "![](../Photo/43.png)"
   ]
  },
  {
   "cell_type": "code",
   "execution_count": 1,
   "metadata": {},
   "outputs": [
    {
     "name": "stdout",
     "output_type": "stream",
     "text": [
      "21\n",
      "65\n",
      "a21\n",
      "b65\n",
      "666\n"
     ]
    }
   ],
   "source": [
    "import random\n",
    "a=(random.randint(1,100))\n",
    "b=(random.randint(1,100))\n",
    "c = a + b\n",
    "print(a)\n",
    "print(b)\n",
    "d = eval(input('a'))\n",
    "e = eval(input('b'))\n",
    "if d==a:\n",
    "    if e==b:\n",
    "        print('666')\n",
    "else:\n",
    "    print('傻逼')"
   ]
  },
  {
   "cell_type": "markdown",
   "metadata": {},
   "source": [
    "- 3\n",
    "![](../Photo/44.png)"
   ]
  },
  {
   "cell_type": "markdown",
   "metadata": {},
   "source": [
    "- 4\n",
    "![](../Photo/45.png)"
   ]
  },
  {
   "cell_type": "code",
   "execution_count": 12,
   "metadata": {},
   "outputs": [
    {
     "name": "stdout",
     "output_type": "stream",
     "text": [
      "Enter three integers: 28,25,9\n",
      "The sorted numbers are 9 25 28\n"
     ]
    }
   ],
   "source": [
    "number1, number2, number3 = eval(input(\"Enter three integers: \"))\n",
    "\n",
    "if number1 > number2:\n",
    "    number1, number2 = number2, number1\n",
    "\n",
    "if number2 > number3:\n",
    "    number2, number3 = number3, number2\n",
    "\n",
    "if number1 > number2:\n",
    "    number1, number2 = number2, number1\n",
    "\n",
    "print(\"The sorted numbers are\", number1, number2, number3)"
   ]
  },
  {
   "cell_type": "markdown",
   "metadata": {},
   "source": [
    "- 5\n",
    "![](../Photo/46.png)"
   ]
  },
  {
   "cell_type": "code",
   "execution_count": null,
   "metadata": {},
   "outputs": [],
   "source": [
    "number1, number2 = eval(input(\"p1: \"))\n",
    "s1=number2/number1\n",
    "number1, number2 = eval(input(\"p2: \"))\n",
    "s2=number2/number1\n",
    "if s1 > s2:\n",
    "    print('s2nice')\n",
    "\n",
    "else:\n",
    "    print('s1nice')\n"
   ]
  },
  {
   "cell_type": "markdown",
   "metadata": {},
   "source": [
    "- 6\n",
    "![](../Photo/47.png)"
   ]
  },
  {
   "cell_type": "code",
   "execution_count": 4,
   "metadata": {},
   "outputs": [
    {
     "name": "stdout",
     "output_type": "stream",
     "text": [
      "年2004\n",
      "月2\n",
      "2004 2 29\n"
     ]
    }
   ],
   "source": [
    "n = eval(input('年'))\n",
    "a = eval(input('月'))\n",
    "if (n%4==0 and n%100!=0) or n%400==0:\n",
    "    if(a==1 or a==3 or a==5 or a==10 or a==12 or a==7 or a==8):\n",
    "        t = 31\n",
    "    if(a==4 or a==5 or a==6 or a==11 or a==9):\n",
    "        t = 30\n",
    "    if(a==2):\n",
    "        t=29\n",
    "else:\n",
    "    if(a==1 or a==3 or a==5 or a==10 or a==12 or a==7 or a==8):\n",
    "        t = 31\n",
    "    if(a==4 or a==5 or a==6 or a==11 or a==9):\n",
    "        t = 30\n",
    "    if(a==2):\n",
    "        t=28\n",
    "print(n,a,t)"
   ]
  },
  {
   "cell_type": "markdown",
   "metadata": {},
   "source": [
    "- 7\n",
    "![](../Photo/48.png)"
   ]
  },
  {
   "cell_type": "code",
   "execution_count": 6,
   "metadata": {},
   "outputs": [
    {
     "name": "stdout",
     "output_type": "stream",
     "text": [
      "1or22\n",
      "666\n"
     ]
    }
   ],
   "source": [
    "import random\n",
    "a = random.randint(1,2)\n",
    "b = eval(input('1or2'))\n",
    "if a==b:\n",
    "    print('666')\n",
    "else:\n",
    "    print('辣鸡')"
   ]
  },
  {
   "cell_type": "markdown",
   "metadata": {},
   "source": [
    "- 8\n",
    "![](../Photo/49.png)"
   ]
  },
  {
   "cell_type": "code",
   "execution_count": 12,
   "metadata": {},
   "outputs": [
    {
     "name": "stdout",
     "output_type": "stream",
     "text": [
      "1or2or31\n",
      "嬴\n"
     ]
    }
   ],
   "source": [
    "import random\n",
    "a = random.randint(0,2)\n",
    "b = eval(input('1or2or3'))\n",
    "\n",
    "if a==b:\n",
    "    print('输')\n",
    "if a==0:\n",
    "    if b==1:\n",
    "        print('嬴')\n",
    "    if b==2:\n",
    "        print('输')\n",
    "if a==1:\n",
    "    if b==0:\n",
    "        print('输')\n",
    "    if b==2:\n",
    "        print('嬴')\n",
    "if a==2:\n",
    "    if b==0:\n",
    "        print('嬴')\n",
    "    if b==1:\n",
    "        print('输')"
   ]
  },
  {
   "cell_type": "markdown",
   "metadata": {},
   "source": [
    "- 9\n",
    "![](../Photo/50.png)"
   ]
  },
  {
   "cell_type": "code",
   "execution_count": null,
   "metadata": {},
   "outputs": [],
   "source": []
  },
  {
   "cell_type": "markdown",
   "metadata": {},
   "source": [
    "- 10\n",
    "![](../Photo/51.png)"
   ]
  },
  {
   "cell_type": "code",
   "execution_count": 10,
   "metadata": {},
   "outputs": [
    {
     "data": {
      "text/plain": [
       "1"
      ]
     },
     "execution_count": 10,
     "metadata": {},
     "output_type": "execute_result"
    }
   ],
   "source": [
    "import win32com.client\n",
    "\n",
    "dehua = win32com.client.Dispatch('SAPI.SPVOICE')\n",
    "dehua.Speak('澳门首家线上赌场上线啦，性感美女荷官在线发牌')"
   ]
  },
  {
   "cell_type": "code",
   "execution_count": 3,
   "metadata": {},
   "outputs": [
    {
     "name": "stdout",
     "output_type": "stream",
     "text": [
      "The card you picked is Jack of Clubs\n"
     ]
    }
   ],
   "source": [
    "NUMBER_OF_CARDS = 52\n",
    "    \n",
    "import random\n",
    "\n",
    "# Pick a card\n",
    "number = random.randint(0, NUMBER_OF_CARDS - 1)\n",
    "\n",
    "print(\"The card you picked is\", end = \" \")\n",
    "if number % 13 == 0:\n",
    "    print(\"Ace of \", end = \"\")\n",
    "elif number % 13 == 10:\n",
    "    print(\"Jack of \", end = \"\")\n",
    "elif number % 13 == 11:\n",
    "    print(\"Queen of \", end = \"\")\n",
    "elif number % 13 == 12:\n",
    "    print(\"King of \", end = \"\")\n",
    "else:\n",
    "    print(number % 13, \"of \", end = \"\")\n",
    "\n",
    "if number // 13 == 0:\n",
    "    print(\"Clubs\")\n",
    "elif number // 13 == 1:\n",
    "    print(\"Diamonds\")\n",
    "elif number // 13 == 2:\n",
    "    println(\"Hearts\")\n",
    "elif number // 13 == 3:\n",
    "    print(\"Spades\")"
   ]
  },
  {
   "cell_type": "markdown",
   "metadata": {},
   "source": [
    "- 11\n",
    "![](../Photo/52.png)"
   ]
  },
  {
   "cell_type": "code",
   "execution_count": 2,
   "metadata": {},
   "outputs": [
    {
     "name": "stdout",
     "output_type": "stream",
     "text": [
      "Enter a three-digit integer: 123\n",
      "123 is not a palindrome\n"
     ]
    }
   ],
   "source": [
    "number = eval(input(\"Enter a three-digit integer: \"))\n",
    "\n",
    "reversedNumber = (number % 10) * 100 + (number // 10 % 10) * 10 + (number // 100)\n",
    "\n",
    "if number == reversedNumber:\n",
    "    print(number, \"is a palindrome\")\n",
    "else:\n",
    "    print(number, \"is not a palindrome\")"
   ]
  },
  {
   "cell_type": "markdown",
   "metadata": {},
   "source": [
    "- 12\n",
    "![](../Photo/53.png)"
   ]
  },
  {
   "cell_type": "code",
   "execution_count": 1,
   "metadata": {},
   "outputs": [
    {
     "name": "stdout",
     "output_type": "stream",
     "text": [
      "三角 1,1,8\n",
      "辣鸡\n"
     ]
    }
   ],
   "source": [
    "a,b,c = eval(input(\"三角 \"))\n",
    "if a+b>c and c+b>a and a+c>b:\n",
    "    print(a+b+c)\n",
    "else:\n",
    "    print('辣鸡')"
   ]
  }
 ],
 "metadata": {
  "kernelspec": {
   "display_name": "Python 3",
   "language": "python",
   "name": "python3"
  },
  "language_info": {
   "codemirror_mode": {
    "name": "ipython",
    "version": 3
   },
   "file_extension": ".py",
   "mimetype": "text/x-python",
   "name": "python",
   "nbconvert_exporter": "python",
   "pygments_lexer": "ipython3",
   "version": "3.6.4"
  }
 },
 "nbformat": 4,
 "nbformat_minor": 2
}
